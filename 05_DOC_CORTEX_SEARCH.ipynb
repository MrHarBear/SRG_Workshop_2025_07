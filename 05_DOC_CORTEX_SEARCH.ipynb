{
 "metadata": {
  "kernelspec": {
   "display_name": "Streamlit Notebook",
   "name": "streamlit"
  },
  "lastEditStatus": {
   "notebookId": "4jx3ziw6re7fk6v7rcex",
   "authorId": "2496333267945",
   "authorName": "HCHEN",
   "authorEmail": "harley.chen@snowflake.com",
   "sessionId": "0d94712b-566e-44bf-9d5d-b3add5e32121",
   "lastEditTime": 1753113365913
  }
 },
 "nbformat_minor": 5,
 "nbformat": 4,
 "cells": [
  {
   "cell_type": "code",
   "id": "3775908f-ca36-4846-8f38-5adca39217f2",
   "metadata": {
    "language": "sql",
    "name": "cell1"
   },
   "source": "-- uploaded pdfs into stage @AI_SQL_DEMO_DB.PUBLIC.EQUITY_RESEARCH_DEMO\n-- (note: please create stage as client side encryption)\n\nCREATE OR REPLACE TABLE raw_docs_text AS SELECT\n    relative_path, \n    GET_PRESIGNED_URL(@INSURANCE_WORKSHOP_DB.RAW_DATA.POLICY_WORDING_DOCUMENTS, relative_path) as scoped_file_url, \n    TO_VARIANT(SNOWFLAKE.CORTEX.PARSE_DOCUMENT(@INSURANCE_WORKSHOP_DB.RAW_DATA.POLICY_WORDING_DOCUMENTS, relative_path , {'mode': 'layout'})) as raw_text_dict,\n    raw_text_dict:content as raw_text\nFROM DIRECTORY(@INSURANCE_WORKSHOP_DB.RAW_DATA.POLICY_WORDING_DOCUMENTS);\n\nselect * from raw_docs_text;",
   "execution_count": null,
   "outputs": []
  },
  {
   "cell_type": "code",
   "id": "8d50cbf4-0c8d-4950-86cb-114990437ac9",
   "metadata": {
    "language": "sql",
    "name": "cell2"
   },
   "source": "CREATE OR REPLACE TABLE insurance_policy_extractions AS\nSELECT\n    RELATIVE_PATH,\n    raw_extraction_output:company::VARCHAR AS company,\n    raw_extraction_output:date::VARCHAR AS date\nFROM (\n    SELECT\n        RELATIVE_PATH,\n        AI_COMPLETE(\n            model => 'snowflake-arctic',\n            -- model => 'claude-4-sonnet',\n            -- model => 'claude-3-7-sonnet',\n            -- model => 'llama3.3-70b',\n            prompt => CONCAT(\n                'From the following insurance policy text, extract the name of the insurer (company) and the policy effective date. If a specific day is missing from the date, assume the first day of the month and return in \"yyyy-mm\".\\n\\nTEXT:\\n', \n                LEFT(RAW_TEXT, 3000)\n            ),\n            response_format => {\n                'type': 'json',\n                'schema': {\n                    'type': 'object',\n                    'properties': {\n                        'company': {'type': 'string'},\n                        'date': {'type': 'string'}\n                    },\n                    'required': ['company', 'date']\n                }\n            }\n        ) AS raw_extraction_output\n    FROM\n        raw_docs_text\n) ai_results; \n\nselect * from insurance_policy_extractions;",
   "execution_count": null,
   "outputs": []
  },
  {
   "cell_type": "code",
   "id": "c695373e-ac74-4b62-a1f1-08206cbd5c81",
   "metadata": {
    "language": "sql",
    "name": "cell3",
    "codeCollapsed": false
   },
   "source": "CREATE OR REPLACE TABLE insurance_policy_doc_metadata AS\n(\nSELECT \n    rdt.*,\n    ipe.company,\n    ipe.date\nFROM \n    raw_docs_text rdt\nINNER JOIN \n    insurance_policy_extractions ipe\n    ON rdt.RELATIVE_PATH = ipe.RELATIVE_PATH); \n\nselect * from insurance_policy_doc_metadata;",
   "execution_count": null,
   "outputs": []
  },
  {
   "cell_type": "code",
   "id": "244e8eac-0940-4d05-ac64-c44662b2f79e",
   "metadata": {
    "language": "sql",
    "name": "cell5"
   },
   "outputs": [],
   "source": "desc table insurance_policy_doc_metadata;",
   "execution_count": null
  },
  {
   "cell_type": "code",
   "id": "ec0f1dc0-9d3f-4837-86c8-ea660d8b0304",
   "metadata": {
    "language": "sql",
    "name": "cell4"
   },
   "outputs": [],
   "source": "CREATE OR REPLACE TABLE insurance_docs_chunked AS\nSELECT\n    RELATIVE_PATH,\n    SCOPED_FILE_URL,\n    COMPANY,\n    DATE,\n    ['INSURANCE_DOCS'] AS DOCUMENT_TYPE,\n    SPLIT_PART(RELATIVE_PATH, '/', -1)::TEXT AS DOCUMENT,\n    VALUE::TEXT AS TEXT\nFROM\n    (SELECT \n        rdt.*,\n        ipe.company,\n        ipe.date\n    FROM \n        raw_docs_text rdt\n    INNER JOIN \n        insurance_policy_extractions ipe\n        ON rdt.RELATIVE_PATH = ipe.RELATIVE_PATH) joined_data,\n    LATERAL FLATTEN(\n        SNOWFLAKE.CORTEX.SPLIT_TEXT_RECURSIVE_CHARACTER(RAW_TEXT_DICT::TEXT, \n                                                        'markdown', \n                                                        4000, \n                                                        400, \n                                                        ['\\n\\n', ' '])\n    );\n\nSELECT\n    *\nFROM\n    insurance_docs_chunked\nLIMIT\n    10;",
   "execution_count": null
  },
  {
   "cell_type": "code",
   "id": "37d101e3-fe7d-4d74-b7fa-9e79a2402483",
   "metadata": {
    "language": "sql",
    "name": "cell6"
   },
   "outputs": [],
   "source": "SELECT\n    *\nFROM\n    insurance_docs_chunked;",
   "execution_count": null
  },
  {
   "cell_type": "code",
   "id": "34eb08e8-8de1-4d1a-ad1d-39cd0883f9ac",
   "metadata": {
    "language": "sql",
    "name": "cell7"
   },
   "outputs": [],
   "source": "",
   "execution_count": null
  }
 ]
}